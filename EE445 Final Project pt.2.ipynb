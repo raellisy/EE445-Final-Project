{
 "cells": [
  {
   "cell_type": "markdown",
   "metadata": {},
   "source": [
    "# EE445 Final Project (Part 2)\n",
    "Raellis Young, Spring 2020\n",
    "\n",
    "2] Explain your problem in a \"markdown\" block, by answering the following question\n",
    "\n",
    "    Adequately describe the function you would like to calculate.\n",
    "        * Is this a reasonable task?\n",
    "        * What are its input and output?\n",
    "\n",
    "Time is limited, so do not be concerned about typesetting.\n",
    "\n",
    "3] In the blocks below download and prepare the data of interest. If you had to download the data manually from the web, please provide a link. ( If you are simulating your own data, provide the functions)\n",
    "\n",
    "4] Prepare the data and load into arrays, tensors, etc... Make several plots to capture \"what the data looks like\". For example, if looking at infection rate as a function of time, make plots for several geographic regions, of time vs infection rate.\n",
    "\n",
    "5] Describe and apply a minimally complex model to your data, for example linear/polynomial regression. Evaluate how well the model did.\n",
    "\n",
    "\n",
    "For this project I want to model the rate at which different countries or just the United States of America were infected.I want to see how different factors affect the growth rate of the virus and how those different factors play a role in minimizing or maximizing the spread. Factors like government response, physical distancing, travel restrictions, etc. affect the COVID-19 growth rate. Maybe it will include data on the number of people who are susceptible to the disease, people who have been infected, and those who have recovered with immunity color-coded.\n",
    "\n",
    "### Data Sources\n",
    "[1] https://www.tsa.gov/coronavirus/passenger-throughput"
   ]
  },
  {
   "cell_type": "markdown",
   "metadata": {},
   "source": [
    "## Load and preprocess data"
   ]
  },
  {
   "cell_type": "code",
   "execution_count": null,
   "metadata": {},
   "outputs": [],
   "source": [
    "import pandas as pd\n",
    "import numpy as np"
   ]
  },
  {
   "cell_type": "code",
   "execution_count": null,
   "metadata": {},
   "outputs": [],
   "source": [
    "# Load testing dataset\n",
    "url = 'https://raw.githubusercontent.com/nyama8/EE-445-Final-Project/master/testingdata.csv'\n",
    "df = pd.read_csv(url, error_bad_lines=False)\n",
    "df"
   ]
  }
 ],
 "metadata": {
  "kernelspec": {
   "display_name": "Python 3",
   "language": "python",
   "name": "python3"
  },
  "language_info": {
   "codemirror_mode": {
    "name": "ipython",
    "version": 3
   },
   "file_extension": ".py",
   "mimetype": "text/x-python",
   "name": "python",
   "nbconvert_exporter": "python",
   "pygments_lexer": "ipython3",
   "version": "3.7.4"
  }
 },
 "nbformat": 4,
 "nbformat_minor": 2
}
